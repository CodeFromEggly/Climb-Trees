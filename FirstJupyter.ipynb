{
 "cells": [
  {
   "cell_type": "markdown",
   "metadata": {},
   "source": [
    "# CSV Editing"
   ]
  },
  {
   "cell_type": "code",
   "execution_count": 11,
   "metadata": {},
   "outputs": [],
   "source": [
    "import csv\n",
    "\n",
    "filename = \"tree_database.csv\"\n",
    "# Field Names for Each Tree:\n",
    "orchards = ['Decimal Lat', 'Decimal Long', 'Name', 'Difficulty']\n",
    "\n",
    "# Some Trees :\n",
    "some_trees = [ ['53.409722', '-2.919722', 'Testree', 'T2'],\n",
    " ['53.407222', '-2.941389', 'Testree 2', 'T3'] ]\n",
    "\n",
    "# writing to csv file \n",
    "with open(filename, 'w') as csvfile: \n",
    "    # creating a csv writer object \n",
    "    csvwriter = csv.writer(csvfile) \n",
    "        \n",
    "    # writing the fields \n",
    "    csvwriter.writerow(orchards) \n",
    "        \n",
    "    # writing the data rows \n",
    "    csvwriter.writerows(some_trees)"
   ]
  },
  {
   "cell_type": "markdown",
   "metadata": {},
   "source": [
    "# Display Map"
   ]
  },
  {
   "cell_type": "code",
   "execution_count": 12,
   "metadata": {},
   "outputs": [],
   "source": [
    "import os \n",
    "import folium\n",
    "from folium import plugins\n",
    "import rioxarray as rxr\n",
    "import earthpy as et\n",
    "import earthpy.spatial as es\n",
    "import pandas as pd"
   ]
  },
  {
   "cell_type": "code",
   "execution_count": 13,
   "metadata": {},
   "outputs": [],
   "source": [
    "# I want a map to display\n",
    "m = folium.Map(\n",
    "    location=[53.84587, -0.42332],\n",
    "    zoom_start = 5\n",
    ")\n",
    "\n"
   ]
  },
  {
   "cell_type": "markdown",
   "metadata": {},
   "source": [
    "Map Locations:"
   ]
  },
  {
   "cell_type": "markdown",
   "metadata": {},
   "source": [
    "Colours:"
   ]
  },
  {
   "cell_type": "code",
   "execution_count": 14,
   "metadata": {},
   "outputs": [],
   "source": [
    "mapped_trees = pd.read_csv('tree_database.csv')\n",
    "#mapped_trees.head(2)\n",
    "\n",
    "def icon_colour(row):\n",
    "    rank = row['Difficulty']\n",
    "    match rank:\n",
    "        case 'T3':\n",
    "            # blue\n",
    "            return 'https://dub01pap002files.storage.live.com/y4mwgfC1GK8hSpOR0UZdT5TS_GxRQFtL5E_JcJGC6aLwEaZGHPULLosBV7wWCo2J23yLUSI3a2dJ-HiJra_MGaAWUHsm5Ilsis9VxW6SPPbECKly6ADFiVtWzzqrt2gDnR5AEqtrmCibOiqGBmqAOSd42-LAeDoMY65CcjigxZcQGnMfLY34MT2rAvZgGqsRcf650PfNtVtzYGiGYFSc5rBImHTkOQjOIODiKxPPAMeLXg?encodeFailures=1&width=400&height=600'\n",
    "        case 'T2':\n",
    "            # orange\n",
    "            return 'https://dub01pap002files.storage.live.com/y4m5OM3RGZYNRa9gF4fTNlgoVApXWGci7s8XacM_QJd_7ubhpZFLSyWXHaeQVmCWTo6MWFl-SlPVM66sGIxXNDAuJFUTXW4u1zyqEJczwoLGDqEVozu4-xxrC8i7NkGQ7FuApHPinGDu33aFUkhq2SEayNVDNmU4uDkKXlFqtX5oetTOLTQJBzkr4bfanVI-1m-L4EunLufpNxocqp_RSr3cJOm5Ilxn4F46gxAhRbvf3M?encodeFailures=1&width=400&height=600'\n",
    "\n",
    "\n",
    "mapped_trees['colour'] = mapped_trees.apply(icon_colour,axis=1)"
   ]
  },
  {
   "cell_type": "code",
   "execution_count": 15,
   "metadata": {},
   "outputs": [
    {
     "data": {
      "text/html": [
       "<div style=\"width:100%;\"><div style=\"position:relative;width:100%;height:0;padding-bottom:60%;\"><span style=\"color:#565656\">Make this Notebook Trusted to load map: File -> Trust Notebook</span><iframe srcdoc=\"&lt;!DOCTYPE html&gt;\n",
       "&lt;head&gt;    \n",
       "    &lt;meta http-equiv=&quot;content-type&quot; content=&quot;text/html; charset=UTF-8&quot; /&gt;\n",
       "    \n",
       "        &lt;script&gt;\n",
       "            L_NO_TOUCH = false;\n",
       "            L_DISABLE_3D = false;\n",
       "        &lt;/script&gt;\n",
       "    \n",
       "    &lt;style&gt;html, body {width: 100%;height: 100%;margin: 0;padding: 0;}&lt;/style&gt;\n",
       "    &lt;style&gt;#map {position:absolute;top:0;bottom:0;right:0;left:0;}&lt;/style&gt;\n",
       "    &lt;script src=&quot;https://cdn.jsdelivr.net/npm/leaflet@1.6.0/dist/leaflet.js&quot;&gt;&lt;/script&gt;\n",
       "    &lt;script src=&quot;https://code.jquery.com/jquery-1.12.4.min.js&quot;&gt;&lt;/script&gt;\n",
       "    &lt;script src=&quot;https://maxcdn.bootstrapcdn.com/bootstrap/3.2.0/js/bootstrap.min.js&quot;&gt;&lt;/script&gt;\n",
       "    &lt;script src=&quot;https://cdnjs.cloudflare.com/ajax/libs/Leaflet.awesome-markers/2.0.2/leaflet.awesome-markers.js&quot;&gt;&lt;/script&gt;\n",
       "    &lt;link rel=&quot;stylesheet&quot; href=&quot;https://cdn.jsdelivr.net/npm/leaflet@1.6.0/dist/leaflet.css&quot;/&gt;\n",
       "    &lt;link rel=&quot;stylesheet&quot; href=&quot;https://maxcdn.bootstrapcdn.com/bootstrap/3.2.0/css/bootstrap.min.css&quot;/&gt;\n",
       "    &lt;link rel=&quot;stylesheet&quot; href=&quot;https://maxcdn.bootstrapcdn.com/bootstrap/3.2.0/css/bootstrap-theme.min.css&quot;/&gt;\n",
       "    &lt;link rel=&quot;stylesheet&quot; href=&quot;https://maxcdn.bootstrapcdn.com/font-awesome/4.6.3/css/font-awesome.min.css&quot;/&gt;\n",
       "    &lt;link rel=&quot;stylesheet&quot; href=&quot;https://cdnjs.cloudflare.com/ajax/libs/Leaflet.awesome-markers/2.0.2/leaflet.awesome-markers.css&quot;/&gt;\n",
       "    &lt;link rel=&quot;stylesheet&quot; href=&quot;https://cdn.jsdelivr.net/gh/python-visualization/folium/folium/templates/leaflet.awesome.rotate.min.css&quot;/&gt;\n",
       "    \n",
       "            &lt;meta name=&quot;viewport&quot; content=&quot;width=device-width,\n",
       "                initial-scale=1.0, maximum-scale=1.0, user-scalable=no&quot; /&gt;\n",
       "            &lt;style&gt;\n",
       "                #map_94c52307ecbae41ea872161fd2069a4b {\n",
       "                    position: relative;\n",
       "                    width: 100.0%;\n",
       "                    height: 100.0%;\n",
       "                    left: 0.0%;\n",
       "                    top: 0.0%;\n",
       "                }\n",
       "            &lt;/style&gt;\n",
       "        \n",
       "&lt;/head&gt;\n",
       "&lt;body&gt;    \n",
       "    \n",
       "            &lt;div class=&quot;folium-map&quot; id=&quot;map_94c52307ecbae41ea872161fd2069a4b&quot; &gt;&lt;/div&gt;\n",
       "        \n",
       "&lt;/body&gt;\n",
       "&lt;script&gt;    \n",
       "    \n",
       "            var map_94c52307ecbae41ea872161fd2069a4b = L.map(\n",
       "                &quot;map_94c52307ecbae41ea872161fd2069a4b&quot;,\n",
       "                {\n",
       "                    center: [53.84587, -0.42332],\n",
       "                    crs: L.CRS.EPSG3857,\n",
       "                    zoom: 5,\n",
       "                    zoomControl: true,\n",
       "                    preferCanvas: false,\n",
       "                }\n",
       "            );\n",
       "\n",
       "            \n",
       "\n",
       "        \n",
       "    \n",
       "            var tile_layer_a3ee9270545f9e37ab473f43a71f3f49 = L.tileLayer(\n",
       "                &quot;https://{s}.tile.openstreetmap.org/{z}/{x}/{y}.png&quot;,\n",
       "                {&quot;attribution&quot;: &quot;Data by \\u0026copy; \\u003ca href=\\&quot;http://openstreetmap.org\\&quot;\\u003eOpenStreetMap\\u003c/a\\u003e, under \\u003ca href=\\&quot;http://www.openstreetmap.org/copyright\\&quot;\\u003eODbL\\u003c/a\\u003e.&quot;, &quot;detectRetina&quot;: false, &quot;maxNativeZoom&quot;: 18, &quot;maxZoom&quot;: 18, &quot;minZoom&quot;: 0, &quot;noWrap&quot;: false, &quot;opacity&quot;: 1, &quot;subdomains&quot;: &quot;abc&quot;, &quot;tms&quot;: false}\n",
       "            ).addTo(map_94c52307ecbae41ea872161fd2069a4b);\n",
       "        \n",
       "    \n",
       "            var marker_8fee1b8b0126da3b1b74c3e706c8f731 = L.marker(\n",
       "                [53.409722, -2.919722],\n",
       "                {&quot;iconSize&quot;: [1000, 1000]}\n",
       "            ).addTo(map_94c52307ecbae41ea872161fd2069a4b);\n",
       "        \n",
       "    \n",
       "        var custom_icon_4c5dcdfe8a6f0d73d84fb4d1a5891592 = L.icon({&quot;iconUrl&quot;: &quot;https://dub01pap002files.storage.live.com/y4m5OM3RGZYNRa9gF4fTNlgoVApXWGci7s8XacM_QJd_7ubhpZFLSyWXHaeQVmCWTo6MWFl-SlPVM66sGIxXNDAuJFUTXW4u1zyqEJczwoLGDqEVozu4-xxrC8i7NkGQ7FuApHPinGDu33aFUkhq2SEayNVDNmU4uDkKXlFqtX5oetTOLTQJBzkr4bfanVI-1m-L4EunLufpNxocqp_RSr3cJOm5Ilxn4F46gxAhRbvf3M?encodeFailures=1\\u0026width=400\\u0026height=600&quot;});\n",
       "        marker_8fee1b8b0126da3b1b74c3e706c8f731.setIcon(custom_icon_4c5dcdfe8a6f0d73d84fb4d1a5891592);\n",
       "        \n",
       "    \n",
       "        var popup_cc0fe129c657cdc52bab3a2614c6271c = L.popup({&quot;maxWidth&quot;: &quot;100%&quot;});\n",
       "\n",
       "        \n",
       "            var html_f758d3b13de0f696fd8ef3a0ddc94912 = $(`&lt;div id=&quot;html_f758d3b13de0f696fd8ef3a0ddc94912&quot; style=&quot;width: 100.0%; height: 100.0%;&quot;&gt;T2&lt;/div&gt;`)[0];\n",
       "            popup_cc0fe129c657cdc52bab3a2614c6271c.setContent(html_f758d3b13de0f696fd8ef3a0ddc94912);\n",
       "        \n",
       "\n",
       "        marker_8fee1b8b0126da3b1b74c3e706c8f731.bindPopup(popup_cc0fe129c657cdc52bab3a2614c6271c)\n",
       "        ;\n",
       "\n",
       "        \n",
       "    \n",
       "    \n",
       "            marker_8fee1b8b0126da3b1b74c3e706c8f731.bindTooltip(\n",
       "                `&lt;div&gt;\n",
       "                     T2\n",
       "                 &lt;/div&gt;`,\n",
       "                {&quot;sticky&quot;: true}\n",
       "            );\n",
       "        \n",
       "    \n",
       "            var marker_6dc231b635d96fa745857facfa064146 = L.marker(\n",
       "                [53.407222, -2.941389],\n",
       "                {&quot;iconSize&quot;: [1000, 1000]}\n",
       "            ).addTo(map_94c52307ecbae41ea872161fd2069a4b);\n",
       "        \n",
       "    \n",
       "        var custom_icon_df3e627a53a2c0acf20c0882b751908e = L.icon({&quot;iconUrl&quot;: &quot;https://dub01pap002files.storage.live.com/y4mwgfC1GK8hSpOR0UZdT5TS_GxRQFtL5E_JcJGC6aLwEaZGHPULLosBV7wWCo2J23yLUSI3a2dJ-HiJra_MGaAWUHsm5Ilsis9VxW6SPPbECKly6ADFiVtWzzqrt2gDnR5AEqtrmCibOiqGBmqAOSd42-LAeDoMY65CcjigxZcQGnMfLY34MT2rAvZgGqsRcf650PfNtVtzYGiGYFSc5rBImHTkOQjOIODiKxPPAMeLXg?encodeFailures=1\\u0026width=400\\u0026height=600&quot;});\n",
       "        marker_6dc231b635d96fa745857facfa064146.setIcon(custom_icon_df3e627a53a2c0acf20c0882b751908e);\n",
       "        \n",
       "    \n",
       "        var popup_53f03a57da9004d0606c6894df987345 = L.popup({&quot;maxWidth&quot;: &quot;100%&quot;});\n",
       "\n",
       "        \n",
       "            var html_ea772d2167caac26c15a52a7a0bdaeaf = $(`&lt;div id=&quot;html_ea772d2167caac26c15a52a7a0bdaeaf&quot; style=&quot;width: 100.0%; height: 100.0%;&quot;&gt;T3&lt;/div&gt;`)[0];\n",
       "            popup_53f03a57da9004d0606c6894df987345.setContent(html_ea772d2167caac26c15a52a7a0bdaeaf);\n",
       "        \n",
       "\n",
       "        marker_6dc231b635d96fa745857facfa064146.bindPopup(popup_53f03a57da9004d0606c6894df987345)\n",
       "        ;\n",
       "\n",
       "        \n",
       "    \n",
       "    \n",
       "            marker_6dc231b635d96fa745857facfa064146.bindTooltip(\n",
       "                `&lt;div&gt;\n",
       "                     T3\n",
       "                 &lt;/div&gt;`,\n",
       "                {&quot;sticky&quot;: true}\n",
       "            );\n",
       "        \n",
       "    \n",
       "            var tile_layer_b08ac98a4b9f9fe516d06f113fa94708 = L.tileLayer(\n",
       "                &quot;https://stamen-tiles-{s}.a.ssl.fastly.net/terrain/{z}/{x}/{y}.jpg&quot;,\n",
       "                {&quot;attribution&quot;: &quot;Map tiles by \\u003ca href=\\&quot;http://stamen.com\\&quot;\\u003eStamen Design\\u003c/a\\u003e, under \\u003ca href=\\&quot;http://creativecommons.org/licenses/by/3.0\\&quot;\\u003eCC BY 3.0\\u003c/a\\u003e. Data by \\u0026copy; \\u003ca href=\\&quot;http://openstreetmap.org\\&quot;\\u003eOpenStreetMap\\u003c/a\\u003e, under \\u003ca href=\\&quot;http://creativecommons.org/licenses/by-sa/3.0\\&quot;\\u003eCC BY SA\\u003c/a\\u003e.&quot;, &quot;detectRetina&quot;: false, &quot;maxNativeZoom&quot;: 18, &quot;maxZoom&quot;: 18, &quot;minZoom&quot;: 0, &quot;noWrap&quot;: false, &quot;opacity&quot;: 1, &quot;subdomains&quot;: &quot;abc&quot;, &quot;tms&quot;: false}\n",
       "            ).addTo(map_94c52307ecbae41ea872161fd2069a4b);\n",
       "        \n",
       "&lt;/script&gt;\" style=\"position:absolute;width:100%;height:100%;left:0;top:0;border:none !important;\" allowfullscreen webkitallowfullscreen mozallowfullscreen></iframe></div></div>"
      ],
      "text/plain": [
       "<folium.folium.Map at 0x239d3257ac0>"
      ]
     },
     "execution_count": 15,
     "metadata": {},
     "output_type": "execute_result"
    }
   ],
   "source": [
    "m = folium.Map(\n",
    "    location=[53.84587, -0.42332],\n",
    "    zoom_start = 5\n",
    ")\n",
    "\n",
    "\n",
    "for _, tree in mapped_trees.iterrows():\n",
    "    folium.Marker(\n",
    "        location = [ tree['Decimal Lat'], tree['Decimal Long'] ],\n",
    "        popup = tree['Difficulty'],\n",
    "        tooltip = tree['Difficulty'],\n",
    "        #icon = folium.Icon(color=tree['colour'], icon='tree', prefix = 'fa')\n",
    "        icon = folium.features.CustomIcon(tree['colour']), \n",
    "        icon_size = (1000,1000)        \n",
    "    ).add_to(m)\n",
    "\n",
    "folium.TileLayer('stamenterrain').add_to(m)\n",
    "\n",
    "m\n"
   ]
  }
 ],
 "metadata": {
  "kernelspec": {
   "display_name": "Python 3.10.5 64-bit (windows store)",
   "language": "python",
   "name": "python3"
  },
  "language_info": {
   "codemirror_mode": {
    "name": "ipython",
    "version": 3
   },
   "file_extension": ".py",
   "mimetype": "text/x-python",
   "name": "python",
   "nbconvert_exporter": "python",
   "pygments_lexer": "ipython3",
   "version": "3.10.5"
  },
  "orig_nbformat": 4,
  "vscode": {
   "interpreter": {
    "hash": "9459d6ed40460abe88d3340ef9947a2a2407c42490433bfbe16dbe9a81effdaf"
   }
  }
 },
 "nbformat": 4,
 "nbformat_minor": 2
}
