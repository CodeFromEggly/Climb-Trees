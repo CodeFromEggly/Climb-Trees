{
 "cells": [
  {
   "cell_type": "markdown",
   "metadata": {},
   "source": [
    "# CSV Editing"
   ]
  },
  {
   "cell_type": "code",
   "execution_count": 26,
   "metadata": {},
   "outputs": [],
   "source": [
    "import csv\n",
    "\n",
    "filename = \"tree_database.csv\"\n",
    "# Field Names for Each Tree:\n",
    "orchards = ['Decimal Lat', 'Decimal Long', 'Name', 'Difficulty']\n",
    "\n",
    "# Some Trees :\n",
    "some_trees = [ ['53.409722', '-2.919722', 'Testree', 'T2'],\n",
    " ['53.407222', '-2.941389', 'Testree 2', 'T3'] ]\n",
    "\n",
    "# writing to csv file \n",
    "with open(filename, 'w') as csvfile: \n",
    "    # creating a csv writer object \n",
    "    csvwriter = csv.writer(csvfile) \n",
    "        \n",
    "    # writing the fields \n",
    "    csvwriter.writerow(orchards) \n",
    "        \n",
    "    # writing the data rows \n",
    "    csvwriter.writerows(some_trees)"
   ]
  },
  {
   "cell_type": "markdown",
   "metadata": {},
   "source": [
    "# Display Map"
   ]
  },
  {
   "cell_type": "code",
   "execution_count": 27,
   "metadata": {},
   "outputs": [],
   "source": [
    "import os \n",
    "import folium\n",
    "from folium import plugins\n",
    "import rioxarray as rxr\n",
    "import earthpy as et\n",
    "import earthpy.spatial as es\n",
    "import pandas as pd"
   ]
  },
  {
   "cell_type": "code",
   "execution_count": 28,
   "metadata": {},
   "outputs": [],
   "source": [
    "# I want a map to display\n",
    "m = folium.Map(\n",
    "    location=[53.406553, -2.942165],\n",
    "    zoom_start = 8\n",
    ")\n",
    "\n"
   ]
  },
  {
   "cell_type": "markdown",
   "metadata": {},
   "source": [
    "Map Locations:"
   ]
  },
  {
   "cell_type": "markdown",
   "metadata": {},
   "source": [
    "Colours:"
   ]
  },
  {
   "cell_type": "code",
   "execution_count": 29,
   "metadata": {},
   "outputs": [],
   "source": [
    "mapped_trees = pd.read_csv('tree_database.csv')\n",
    "#mapped_trees.head(2)\n",
    "\n",
    "def icon_colour(row):\n",
    "    rank = row['Difficulty']\n",
    "    match rank:\n",
    "        case 'T3':\n",
    "            # blue\n",
    "            return 'https://github.com/CodeFromEggly/TreeHub/blob/main/TreeIcons/Tree%20Dark%20Blue%203.png?raw=true'\n",
    "        case 'T2':\n",
    "            # orange\n",
    "            return 'https://github.com/CodeFromEggly/TreeHub/blob/main/TreeIcons/Tree%20Orange%203.png?raw=true'\n",
    "\n",
    "\n",
    "mapped_trees['colour'] = mapped_trees.apply(icon_colour,axis=1)"
   ]
  },
  {
   "cell_type": "code",
   "execution_count": 30,
   "metadata": {},
   "outputs": [
    {
     "data": {
      "text/html": [
       "<div style=\"width:100%;\"><div style=\"position:relative;width:100%;height:0;padding-bottom:60%;\"><span style=\"color:#565656\">Make this Notebook Trusted to load map: File -> Trust Notebook</span><iframe srcdoc=\"&lt;!DOCTYPE html&gt;\n",
       "&lt;head&gt;    \n",
       "    &lt;meta http-equiv=&quot;content-type&quot; content=&quot;text/html; charset=UTF-8&quot; /&gt;\n",
       "    \n",
       "        &lt;script&gt;\n",
       "            L_NO_TOUCH = false;\n",
       "            L_DISABLE_3D = false;\n",
       "        &lt;/script&gt;\n",
       "    \n",
       "    &lt;style&gt;html, body {width: 100%;height: 100%;margin: 0;padding: 0;}&lt;/style&gt;\n",
       "    &lt;style&gt;#map {position:absolute;top:0;bottom:0;right:0;left:0;}&lt;/style&gt;\n",
       "    &lt;script src=&quot;https://cdn.jsdelivr.net/npm/leaflet@1.6.0/dist/leaflet.js&quot;&gt;&lt;/script&gt;\n",
       "    &lt;script src=&quot;https://code.jquery.com/jquery-1.12.4.min.js&quot;&gt;&lt;/script&gt;\n",
       "    &lt;script src=&quot;https://maxcdn.bootstrapcdn.com/bootstrap/3.2.0/js/bootstrap.min.js&quot;&gt;&lt;/script&gt;\n",
       "    &lt;script src=&quot;https://cdnjs.cloudflare.com/ajax/libs/Leaflet.awesome-markers/2.0.2/leaflet.awesome-markers.js&quot;&gt;&lt;/script&gt;\n",
       "    &lt;link rel=&quot;stylesheet&quot; href=&quot;https://cdn.jsdelivr.net/npm/leaflet@1.6.0/dist/leaflet.css&quot;/&gt;\n",
       "    &lt;link rel=&quot;stylesheet&quot; href=&quot;https://maxcdn.bootstrapcdn.com/bootstrap/3.2.0/css/bootstrap.min.css&quot;/&gt;\n",
       "    &lt;link rel=&quot;stylesheet&quot; href=&quot;https://maxcdn.bootstrapcdn.com/bootstrap/3.2.0/css/bootstrap-theme.min.css&quot;/&gt;\n",
       "    &lt;link rel=&quot;stylesheet&quot; href=&quot;https://maxcdn.bootstrapcdn.com/font-awesome/4.6.3/css/font-awesome.min.css&quot;/&gt;\n",
       "    &lt;link rel=&quot;stylesheet&quot; href=&quot;https://cdnjs.cloudflare.com/ajax/libs/Leaflet.awesome-markers/2.0.2/leaflet.awesome-markers.css&quot;/&gt;\n",
       "    &lt;link rel=&quot;stylesheet&quot; href=&quot;https://cdn.jsdelivr.net/gh/python-visualization/folium/folium/templates/leaflet.awesome.rotate.min.css&quot;/&gt;\n",
       "    \n",
       "            &lt;meta name=&quot;viewport&quot; content=&quot;width=device-width,\n",
       "                initial-scale=1.0, maximum-scale=1.0, user-scalable=no&quot; /&gt;\n",
       "            &lt;style&gt;\n",
       "                #map_e2b13d47575fc55a0e95937022ddafec {\n",
       "                    position: relative;\n",
       "                    width: 100.0%;\n",
       "                    height: 100.0%;\n",
       "                    left: 0.0%;\n",
       "                    top: 0.0%;\n",
       "                }\n",
       "            &lt;/style&gt;\n",
       "        \n",
       "&lt;/head&gt;\n",
       "&lt;body&gt;    \n",
       "    \n",
       "            &lt;div class=&quot;folium-map&quot; id=&quot;map_e2b13d47575fc55a0e95937022ddafec&quot; &gt;&lt;/div&gt;\n",
       "        \n",
       "&lt;/body&gt;\n",
       "&lt;script&gt;    \n",
       "    \n",
       "            var map_e2b13d47575fc55a0e95937022ddafec = L.map(\n",
       "                &quot;map_e2b13d47575fc55a0e95937022ddafec&quot;,\n",
       "                {\n",
       "                    center: [53.406553, -2.942165],\n",
       "                    crs: L.CRS.EPSG3857,\n",
       "                    zoom: 12,\n",
       "                    zoomControl: true,\n",
       "                    preferCanvas: false,\n",
       "                }\n",
       "            );\n",
       "\n",
       "            \n",
       "\n",
       "        \n",
       "    \n",
       "            var tile_layer_0bdb2155d9ac85ce7374a2154118b58b = L.tileLayer(\n",
       "                &quot;https://{s}.tile.openstreetmap.org/{z}/{x}/{y}.png&quot;,\n",
       "                {&quot;attribution&quot;: &quot;Data by \\u0026copy; \\u003ca href=\\&quot;http://openstreetmap.org\\&quot;\\u003eOpenStreetMap\\u003c/a\\u003e, under \\u003ca href=\\&quot;http://www.openstreetmap.org/copyright\\&quot;\\u003eODbL\\u003c/a\\u003e.&quot;, &quot;detectRetina&quot;: false, &quot;maxNativeZoom&quot;: 18, &quot;maxZoom&quot;: 18, &quot;minZoom&quot;: 0, &quot;noWrap&quot;: false, &quot;opacity&quot;: 1, &quot;subdomains&quot;: &quot;abc&quot;, &quot;tms&quot;: false}\n",
       "            ).addTo(map_e2b13d47575fc55a0e95937022ddafec);\n",
       "        \n",
       "    \n",
       "            var marker_bb61a04bbb401d013e3ef552857ce755 = L.marker(\n",
       "                [53.409722, -2.919722],\n",
       "                {&quot;iconSize&quot;: [1000, 1000]}\n",
       "            ).addTo(map_e2b13d47575fc55a0e95937022ddafec);\n",
       "        \n",
       "    \n",
       "        var custom_icon_02e01a8b4cd23769f24fa47bc80c0335 = L.icon({&quot;iconUrl&quot;: &quot;https://github.com/CodeFromEggly/TreeHub/blob/main/TreeIcons/Tree%20Orange%203.png?raw=true&quot;});\n",
       "        marker_bb61a04bbb401d013e3ef552857ce755.setIcon(custom_icon_02e01a8b4cd23769f24fa47bc80c0335);\n",
       "        \n",
       "    \n",
       "        var popup_178249e8c243f599d09ec401c42b3c6f = L.popup({&quot;maxWidth&quot;: &quot;100%&quot;});\n",
       "\n",
       "        \n",
       "            var html_d8199b430fb9b3f96e561837aa147c4e = $(`&lt;div id=&quot;html_d8199b430fb9b3f96e561837aa147c4e&quot; style=&quot;width: 100.0%; height: 100.0%;&quot;&gt;T2&lt;/div&gt;`)[0];\n",
       "            popup_178249e8c243f599d09ec401c42b3c6f.setContent(html_d8199b430fb9b3f96e561837aa147c4e);\n",
       "        \n",
       "\n",
       "        marker_bb61a04bbb401d013e3ef552857ce755.bindPopup(popup_178249e8c243f599d09ec401c42b3c6f)\n",
       "        ;\n",
       "\n",
       "        \n",
       "    \n",
       "    \n",
       "            marker_bb61a04bbb401d013e3ef552857ce755.bindTooltip(\n",
       "                `&lt;div&gt;\n",
       "                     T2\n",
       "                 &lt;/div&gt;`,\n",
       "                {&quot;sticky&quot;: true}\n",
       "            );\n",
       "        \n",
       "    \n",
       "            var marker_836a9c138b7be823c8628a2fec464d60 = L.marker(\n",
       "                [53.407222, -2.941389],\n",
       "                {&quot;iconSize&quot;: [1000, 1000]}\n",
       "            ).addTo(map_e2b13d47575fc55a0e95937022ddafec);\n",
       "        \n",
       "    \n",
       "        var custom_icon_2b9d9e64bab0c60a4ffc68ff69bd26d8 = L.icon({&quot;iconUrl&quot;: &quot;https://github.com/CodeFromEggly/TreeHub/blob/main/TreeIcons/Tree%20Dark%20Blue%203.png?raw=true&quot;});\n",
       "        marker_836a9c138b7be823c8628a2fec464d60.setIcon(custom_icon_2b9d9e64bab0c60a4ffc68ff69bd26d8);\n",
       "        \n",
       "    \n",
       "        var popup_80be8f802155d3fb4f6355ec94c717ed = L.popup({&quot;maxWidth&quot;: &quot;100%&quot;});\n",
       "\n",
       "        \n",
       "            var html_0295cad6385afd61fa156ef885b55cfe = $(`&lt;div id=&quot;html_0295cad6385afd61fa156ef885b55cfe&quot; style=&quot;width: 100.0%; height: 100.0%;&quot;&gt;T3&lt;/div&gt;`)[0];\n",
       "            popup_80be8f802155d3fb4f6355ec94c717ed.setContent(html_0295cad6385afd61fa156ef885b55cfe);\n",
       "        \n",
       "\n",
       "        marker_836a9c138b7be823c8628a2fec464d60.bindPopup(popup_80be8f802155d3fb4f6355ec94c717ed)\n",
       "        ;\n",
       "\n",
       "        \n",
       "    \n",
       "    \n",
       "            marker_836a9c138b7be823c8628a2fec464d60.bindTooltip(\n",
       "                `&lt;div&gt;\n",
       "                     T3\n",
       "                 &lt;/div&gt;`,\n",
       "                {&quot;sticky&quot;: true}\n",
       "            );\n",
       "        \n",
       "    \n",
       "            var tile_layer_ab0355bbbfd2b32e6bc926d7a7220f20 = L.tileLayer(\n",
       "                &quot;https://stamen-tiles-{s}.a.ssl.fastly.net/terrain/{z}/{x}/{y}.jpg&quot;,\n",
       "                {&quot;attribution&quot;: &quot;Map tiles by \\u003ca href=\\&quot;http://stamen.com\\&quot;\\u003eStamen Design\\u003c/a\\u003e, under \\u003ca href=\\&quot;http://creativecommons.org/licenses/by/3.0\\&quot;\\u003eCC BY 3.0\\u003c/a\\u003e. Data by \\u0026copy; \\u003ca href=\\&quot;http://openstreetmap.org\\&quot;\\u003eOpenStreetMap\\u003c/a\\u003e, under \\u003ca href=\\&quot;http://creativecommons.org/licenses/by-sa/3.0\\&quot;\\u003eCC BY SA\\u003c/a\\u003e.&quot;, &quot;detectRetina&quot;: false, &quot;maxNativeZoom&quot;: 18, &quot;maxZoom&quot;: 18, &quot;minZoom&quot;: 0, &quot;noWrap&quot;: false, &quot;opacity&quot;: 1, &quot;subdomains&quot;: &quot;abc&quot;, &quot;tms&quot;: false}\n",
       "            ).addTo(map_e2b13d47575fc55a0e95937022ddafec);\n",
       "        \n",
       "&lt;/script&gt;\" style=\"position:absolute;width:100%;height:100%;left:0;top:0;border:none !important;\" allowfullscreen webkitallowfullscreen mozallowfullscreen></iframe></div></div>"
      ],
      "text/plain": [
       "<folium.folium.Map at 0x1c8aaca6200>"
      ]
     },
     "execution_count": 30,
     "metadata": {},
     "output_type": "execute_result"
    }
   ],
   "source": [
    "m = folium.Map(\n",
    "    location=[53.406553, -2.942165],\n",
    "    zoom_start = 12\n",
    ")\n",
    "\n",
    "\n",
    "for _, tree in mapped_trees.iterrows():\n",
    "    folium.Marker(\n",
    "        location = [ tree['Decimal Lat'], tree['Decimal Long'] ],\n",
    "        popup = tree['Difficulty'],\n",
    "        tooltip = tree['Difficulty'],\n",
    "        #icon = folium.Icon(color=tree['colour'], icon='tree', prefix = 'fa')\n",
    "        icon = folium.features.CustomIcon(tree['colour']), \n",
    "        # Icon size doesn't seem to affect anything (??) :\n",
    "        #icon_size = (1000,1000)        \n",
    "    ).add_to(m)\n",
    "\n",
    "folium.TileLayer('stamenterrain').add_to(m)\n",
    "\n",
    "m\n"
   ]
  }
 ],
 "metadata": {
  "kernelspec": {
   "display_name": "Python 3.10.5 64-bit (windows store)",
   "language": "python",
   "name": "python3"
  },
  "language_info": {
   "codemirror_mode": {
    "name": "ipython",
    "version": 3
   },
   "file_extension": ".py",
   "mimetype": "text/x-python",
   "name": "python",
   "nbconvert_exporter": "python",
   "pygments_lexer": "ipython3",
   "version": "3.10.5"
  },
  "orig_nbformat": 4,
  "vscode": {
   "interpreter": {
    "hash": "9459d6ed40460abe88d3340ef9947a2a2407c42490433bfbe16dbe9a81effdaf"
   }
  }
 },
 "nbformat": 4,
 "nbformat_minor": 2
}
